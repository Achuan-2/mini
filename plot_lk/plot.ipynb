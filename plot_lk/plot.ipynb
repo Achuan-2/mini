{
 "cells": [
  {
   "cell_type": "code",
   "execution_count": 2,
   "metadata": {},
   "outputs": [],
   "source": [
    "import os\n",
    "import numpy as np\n",
    "import pandas as pd\n",
    "import matplotlib.pyplot as plt\n",
    "from matplotlib.pyplot import MultipleLocator"
   ]
  },
  {
   "cell_type": "markdown",
   "metadata": {},
   "source": [
    "## 读取文件"
   ]
  },
  {
   "cell_type": "code",
   "execution_count": 3,
   "metadata": {},
   "outputs": [
    {
     "data": {
      "text/html": [
       "<div>\n",
       "<style scoped>\n",
       "    .dataframe tbody tr th:only-of-type {\n",
       "        vertical-align: middle;\n",
       "    }\n",
       "\n",
       "    .dataframe tbody tr th {\n",
       "        vertical-align: top;\n",
       "    }\n",
       "\n",
       "    .dataframe thead th {\n",
       "        text-align: right;\n",
       "    }\n",
       "</style>\n",
       "<table border=\"1\" class=\"dataframe\">\n",
       "  <thead>\n",
       "    <tr style=\"text-align: right;\">\n",
       "      <th></th>\n",
       "      <th>min</th>\n",
       "      <th>ch1</th>\n",
       "      <th>ch2</th>\n",
       "      <th>ch3</th>\n",
       "    </tr>\n",
       "  </thead>\n",
       "  <tbody>\n",
       "    <tr>\n",
       "      <th>0</th>\n",
       "      <td>10.3015</td>\n",
       "      <td>4.75358</td>\n",
       "      <td>4.89361</td>\n",
       "      <td>0.104065</td>\n",
       "    </tr>\n",
       "    <tr>\n",
       "      <th>1</th>\n",
       "      <td>10.3015</td>\n",
       "      <td>4.74655</td>\n",
       "      <td>4.88035</td>\n",
       "      <td>0.098877</td>\n",
       "    </tr>\n",
       "    <tr>\n",
       "      <th>2</th>\n",
       "      <td>10.3015</td>\n",
       "      <td>4.75358</td>\n",
       "      <td>4.88698</td>\n",
       "      <td>0.095215</td>\n",
       "    </tr>\n",
       "    <tr>\n",
       "      <th>3</th>\n",
       "      <td>10.3015</td>\n",
       "      <td>4.74655</td>\n",
       "      <td>4.90688</td>\n",
       "      <td>0.102539</td>\n",
       "    </tr>\n",
       "    <tr>\n",
       "      <th>4</th>\n",
       "      <td>10.3015</td>\n",
       "      <td>4.76764</td>\n",
       "      <td>4.88035</td>\n",
       "      <td>0.103149</td>\n",
       "    </tr>\n",
       "  </tbody>\n",
       "</table>\n",
       "</div>"
      ],
      "text/plain": [
       "       min      ch1      ch2       ch3\n",
       "0  10.3015  4.75358  4.89361  0.104065\n",
       "1  10.3015  4.74655  4.88035  0.098877\n",
       "2  10.3015  4.75358  4.88698  0.095215\n",
       "3  10.3015  4.74655  4.90688  0.102539\n",
       "4  10.3015  4.76764  4.88035  0.103149"
      ]
     },
     "execution_count": 3,
     "metadata": {},
     "output_type": "execute_result"
    }
   ],
   "source": [
    "input_path='./data/'\n",
    "input_file = '20220727_D14-colon-rectrum_advillin-FLPO_glp1r-cre_FL-catch_10hz-20s_10hz-60s.txt'\n",
    "df=pd.read_csv(os.path.join(input_path,input_file),\n",
    "     sep='\\t',\n",
    "     skiprows=11,header=None, usecols=[0, 1, 2,3],names = ['min', 'ch1', 'ch2', 'ch3'])\n",
    "df.head()"
   ]
  },
  {
   "cell_type": "markdown",
   "metadata": {},
   "source": [
    "## 画图"
   ]
  },
  {
   "cell_type": "code",
   "execution_count": 4,
   "metadata": {},
   "outputs": [
    {
     "data": {
      "image/png": "[encoded data removed]",
      "text/plain": [
       "<Figure size 453.6x453.6 with 3 Axes>"
      ]
     },
     "metadata": {},
     "output_type": "display_data"
    }
   ],
   "source": [
    "\n",
    "def plot_graph(time_start=0, time_end=60, y_min=3,\n",
    "               y_max=9, channels='both', figsize=(8, 8), panels_height=[1, 1, 1],\n",
    "               colors_dict={'ch1': '#046cb0', 'ch2': '#f72400', 'ch3': '#000'},\n",
    "               x_tick_space=1,\n",
    "               y_tick_space=1,\n",
    "               grid=False):\n",
    "    # settings\n",
    "    channel_dict = {\n",
    "        '1': (2, ['ch1', 'ch3']),\n",
    "        '2': (2, ['ch2', 'ch3']),\n",
    "        'both': (3, ['ch1', 'ch2', 'ch3']),\n",
    "        '12': (3, ['ch1', 'ch2', 'ch3'])\n",
    "    }\n",
    "    x_major_locator = MultipleLocator(x_tick_space)\n",
    "    y_major_locator = MultipleLocator(y_tick_space)\n",
    "\n",
    "    panels, channel_li = channel_dict[channels]\n",
    "    height_ratios = panels_height[0:panels-1]\n",
    "    height_ratios.append(panels_height[-1])\n",
    "    \n",
    "    # deal with df_plot\n",
    "    df_plot = df[(df[\"min\"] > time_start) & (df[\"min\"] < time_end)].copy()\n",
    "    df_plot['ch3'] = df_plot['ch3'].astype('int64')*4\n",
    "\n",
    "    # plot\n",
    "    fig, axes = plt.subplots(panels, 1, figsize=figsize, sharex=False, sharey=False,\n",
    "                             gridspec_kw={'height_ratios': height_ratios})\n",
    "\n",
    "    for i, axi in enumerate(axes):\n",
    "        if i < 3:\n",
    "            axi.set_ylim(y_min, y_max)\n",
    "            axi.set_xlabel(\"t (min)\", size=12, loc=\"right\")\n",
    "            axi.set_ylabel(\"cm H2O\", size=12)\n",
    "\n",
    "        axi.plot(df_plot['min'], df_plot[channel_li[i]],\n",
    "                 color=colors_dict[channel_li[i]])\n",
    "        axi.margins(0)\n",
    "        axi.grid(grid)\n",
    "        axi.xaxis.set_major_locator(x_major_locator)\n",
    "        axi.yaxis.set_major_locator(y_major_locator)\n",
    "    # axes[-1].margins(y=-0.2)\n",
    "    axes[-1].axis('off')\n",
    "    fig.tight_layout()\n",
    "    fig = plt.gcf()\n",
    "    fig.set_facecolor('white')\n",
    "    plt.show()\n",
    "    return fig\n",
    "\n",
    "fig=plot_graph(\n",
    "    time_start=0, time_end=90,\n",
    "    y_min=0,\n",
    "    y_max=10,\n",
    "    x_tick_space=1,\n",
    "    y_tick_space=2,\n",
    "    channels='12',\n",
    "    figsize=(6.3, 6.3),\n",
    "    panels_height=[1, 1, 0.4],\n",
    "    colors_dict={\n",
    "        'ch1': '#212121',\n",
    "        'ch2': '#ea2000',\n",
    "        'ch3': '#3449ff'\n",
    "    },\n",
    "    grid=False,\n",
    ")\n"
   ]
  },
  {
   "cell_type": "markdown",
   "metadata": {},
   "source": [
    "## 保存文件"
   ]
  },
  {
   "cell_type": "code",
   "execution_count": 5,
   "metadata": {},
   "outputs": [],
   "source": [
    "\n",
    "output_path='./data'\n",
    "output_name=os.path.basename(input_file).split('.')[0]\n",
    "fig.savefig(f'{output_path}/{output_name}.tif',dpi=200)"
   ]
  }
 ],
 "metadata": {
  "kernelspec": {
   "display_name": "Python 3.9.12 ('ai')",
   "language": "python",
   "name": "python3"
  },
  "language_info": {
   "codemirror_mode": {
    "name": "ipython",
    "version": 3
   },
   "file_extension": ".py",
   "mimetype": "text/x-python",
   "name": "python",
   "nbconvert_exporter": "python",
   "pygments_lexer": "ipython3",
   "version": "3.9.12"
  },
  "orig_nbformat": 4,
  "vscode": {
   "interpreter": {
    "hash": "90c27246f24dc25bb0a65debf84b3e11e0ba57f78c1d72e14334c7952099341b"
   }
  }
 },
 "nbformat": 4,
 "nbformat_minor": 2
}
