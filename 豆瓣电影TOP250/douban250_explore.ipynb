{
 "cells": [
  {
   "cell_type": "code",
   "execution_count": 1,
   "metadata": {},
   "outputs": [
    {
     "data": {
      "text/plain": [
       "<Element html at 0x14c1ea77d00>"
      ]
     },
     "execution_count": 1,
     "metadata": {},
     "output_type": "execute_result"
    }
   ],
   "source": [
    "import requests\n",
    "import pandas as pd\n",
    "import bs4\n",
    "import os\n",
    "from lxml import etree\n",
    "url = \"https://movie.douban.com/top250\"\n",
    "headers = {\n",
    "    \"User-Agent\": \"Mozilla/5.0 (Windows NT 10.0; WOW64) AppleWebKit/537.36 (KHTML, like Gecko) Chrome/65.0.3314.0 Safari/537.36 SE 2.X MetaSr 1.0\"\n",
    "}\n",
    "res = requests.get(url, headers=headers)\n",
    "html = res.text\n",
    "xp = etree.HTML(html)\n",
    "\n",
    "xp"
   ]
  },
  {
   "cell_type": "markdown",
   "metadata": {},
   "source": [
    "探索xpath用法"
   ]
  },
  {
   "cell_type": "code",
   "execution_count": 4,
   "metadata": {},
   "outputs": [
    {
     "data": {
      "text/plain": [
       "<Response [200]>"
      ]
     },
     "execution_count": 4,
     "metadata": {},
     "output_type": "execute_result"
    }
   ],
   "source": [
    "from bs4 import BeautifulSoup\n",
    "def open_url(url):\n",
    "    headers = {\n",
    "        \"User-Agent\": \"Mozilla/5.0 (Windows NT 10.0; WOW64) AppleWebKit/537.36 (KHTML, like Gecko) Chrome/65.0.3314.0 Safari/537.36 SE 2.X MetaSr 1.0\"}\n",
    "    res = requests.get(url, headers=headers)\n",
    "\n",
    "    return res\n",
    "\n",
    "\n",
    "res = open_url('https://movie.douban.com/subject/6786002/')\n",
    "res"
   ]
  },
  {
   "cell_type": "code",
   "execution_count": 60,
   "metadata": {},
   "outputs": [
    {
     "name": "stdout",
     "output_type": "stream",
     "text": [
      "{'1': 2, '2': 3}\n"
     ]
    }
   ],
   "source": [
    "# 字典合并\n",
    "dict1 = {}\n",
    "dict1.update({\"1\": 2})\n",
    "dict1.update({\"2\": 3})\n",
    "print(dict1)\n"
   ]
  },
  {
   "cell_type": "code",
   "execution_count": 16,
   "metadata": {},
   "outputs": [],
   "source": [
    "soup = BeautifulSoup(res.text, 'html.parser')  # 用 html.parser 来解析网页\n",
    "item = soup.find('div', id='content')\n"
   ]
  },
  {
   "cell_type": "code",
   "execution_count": 21,
   "metadata": {},
   "outputs": [],
   "source": [
    "\n",
    "\n",
    "\n",
    "movie = {}  # 新建字典，存放电影信息\n",
    "\n",
    "# 电影名称\n",
    "movie['电影名称'] = item.h1.span.text\n",
    "\n",
    "# 导演、类型、制片国家/地区、语言、上映时间、片长（部分电影这些信息不全，先全部采集，留待数据分析时处理）\n",
    "infos = item.find('div', id='info').text.replace(' ', '').split('\\n')\n",
    "for i in infos:\n",
    "        if ':' in i:\n",
    "                movie[i.split(':')[0]] = i.split(':')[1]\n",
    "        else:\n",
    "                continue\n"
   ]
  },
  {
   "cell_type": "code",
   "execution_count": 33,
   "metadata": {},
   "outputs": [
    {
     "data": {
      "text/plain": [
       "['电影名称', '导演', '编剧', '主演', '类型', '制片国家/地区', '语言', '上映日期', '片长', '又名', 'IMDb']"
      ]
     },
     "execution_count": 33,
     "metadata": {},
     "output_type": "execute_result"
    }
   ],
   "source": [
    "[i for i in movie.keys()]\n",
    "\n",
    "\n"
   ]
  },
  {
   "cell_type": "code",
   "execution_count": 26,
   "metadata": {},
   "outputs": [
    {
     "data": {
      "text/plain": [
       "['奥利维埃·纳卡什/埃里克·托莱达诺',\n",
       " '奥利维埃·纳卡什/埃里克·托莱达诺',\n",
       " '弗朗索瓦·克鲁塞/奥玛·希/安娜·勒尼/奥德雷·弗勒罗/托马·索利韦尔',\n",
       " '剧情/喜剧',\n",
       " '法国',\n",
       " '法语',\n",
       " '2011-11-02(法国)',\n",
       " '112分钟',\n",
       " '闪亮人生(港)/逆转人生(台)/无法触碰/最佳拍档/不可触碰/不可触摸/Untouchable/TheIntouchables']"
      ]
     },
     "execution_count": 26,
     "metadata": {},
     "output_type": "execute_result"
    }
   ],
   "source": [
    "list(movie.values())[1:-1]"
   ]
  },
  {
   "cell_type": "code",
   "execution_count": 11,
   "metadata": {},
   "outputs": [
    {
     "data": {
      "text/plain": [
       "'汤姆·汉克斯 Tom Hanks / ...'"
      ]
     },
     "execution_count": 11,
     "metadata": {},
     "output_type": "execute_result"
    }
   ],
   "source": [
    "# 导演\n",
    "xp.xpath(\n",
    "    '//*[@id=\"content\"]/div/div[1]/ol/li[3]/div/div[2]/div[2]/p[1]/text()')[0].strip().replace(\"\\xa0\\xa0\\xa0\", \"\\t\").split(\"\\t\")[1][4:]\n"
   ]
  },
  {
   "cell_type": "code",
   "execution_count": null,
   "metadata": {},
   "outputs": [],
   "source": [
    "# 导演\n",
    "director = xp.xpath(\n",
    "    '//*[@id=\"content\"]/div/div[1]/ol/li[3]/div/div[2]/div[2]/p[1]/text()')[0].strip().replace(\"\\xa0\\xa0\\xa0\", \"\\t\").split(\"\\t\")[0][4:]\n",
    "director\n",
    "#info\n",
    "info = xp.xpath(\n",
    "    '//*[@id=\"content\"]/div/div[1]/ol/li[3]/div/div[2]/div[2]/p[1]/text()')[1].strip().replace(\"\\xa0\", \"\").split(\"/\")\n",
    "date, area, genre = info[0], info[1], info[2]\n",
    "genre.replace(\" \", \",\")\n",
    "\n",
    "# rate\n",
    "xp.xpath(\n",
    "    '//*[@id=\"content\"]/div/div[1]/ol/li[1]/div/div[2]/div[2]/div/span[2]/text()')[0]\n",
    "# people\n",
    "xp.xpath(\n",
    "    '//*[@id=\"content\"]/div/div[1]/ol/li[1]/div/div[2]/div[2]/div/span[4]/text()')[0][:-3]\n",
    "# quote\n",
    "xp.xpath(\n",
    "    '//*[@id=\"content\"]/div/div[1]/ol/li[1]/div/div[2]/div[2]/p[2]/span/text()')[0]\n",
    "# rank\n",
    "xp.xpath('//*[@id=\"content\"]/div/div[1]/ol/li[1]/div/div[1]/em/text()')\n",
    "# 别名\n",
    "\n",
    "li = '//*[@id=\"content\"]/div/div[1]/ol/li[1]/'\n",
    "try:\n",
    "    title2 = xp.xpath(li +\n",
    "                      'div/div[2]/div[1]/a/span[@class=\"title\"][2]/text()')[0].replace(\"\\xa0\", \"\")\n",
    "except:\n",
    "\n",
    "    print(xp.xpath(li +\n",
    "                   'div/div[2]/div[1]/a/span[2]/text()')[0].replace(\"\\xa0\", \"\"))\n",
    "else:\n",
    "\n",
    "    print(title2+xp.xpath(\n",
    "        li+'div/div[2]/div[1]/a/span[@class=\"other\"]/text()')[0].replace(\"\\xa0\", \"\"))\n",
    "# 豆瓣链接\n",
    "xp.xpath(li+'div/div[2]/div[1]/a/@href')[0]\n",
    "\n",
    "# 图片\n",
    "xp.xpath('//*[@id=\"content\"]/div/div[1]/ol/li[1]/div/div[1]/a/img/@src')[0]\n"
   ]
  }
 ],
 "metadata": {
  "interpreter": {
   "hash": "3c3b1f68f84beab8382f21a915ede04862a3ee36b0db72f203c6e0d4c6345b06"
  },
  "kernelspec": {
   "display_name": "Python 3.8.5 64-bit ('base': conda)",
   "language": "python",
   "name": "python3"
  },
  "language_info": {
   "codemirror_mode": {
    "name": "ipython",
    "version": 3
   },
   "file_extension": ".py",
   "mimetype": "text/x-python",
   "name": "python",
   "nbconvert_exporter": "python",
   "pygments_lexer": "ipython3",
   "version": "3.8.5"
  },
  "orig_nbformat": 4
 },
 "nbformat": 4,
 "nbformat_minor": 2
}
