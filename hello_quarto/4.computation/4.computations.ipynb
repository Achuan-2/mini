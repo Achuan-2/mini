{
  "cells": [
    {
      "cell_type": "raw",
      "metadata": {},
      "source": [
        "---\n",
        "title: Quarto Computations\n",
        "---"
      ],
      "id": "31e7a8f6"
    },
    {
      "cell_type": "markdown",
      "metadata": {},
      "source": [
        "## NumPy\n"
      ],
      "id": "a771ee11"
    },
    {
      "cell_type": "code",
      "metadata": {},
      "source": [
        "import numpy as np\n",
        "a = np.arange(15).reshape(3, 5)\n",
        "a"
      ],
      "id": "2be94ccf",
      "execution_count": null,
      "outputs": []
    },
    {
      "cell_type": "markdown",
      "metadata": {},
      "source": [
        "## Matplotlib\n"
      ],
      "id": "30dd03dc"
    },
    {
      "cell_type": "code",
      "metadata": {},
      "source": [
        "import matplotlib.pyplot as plt\n",
        "\n",
        "fig = plt.figure()\n",
        "x = np.arange(10)\n",
        "y = 2.5 * np.sin(x / 20 * np.pi)\n",
        "yerr = np.linspace(0.05, 0.2, 10)\n",
        "\n",
        "plt.errorbar(x, y + 3, yerr=yerr, label='both limits (default)')\n",
        "plt.errorbar(x, y + 2, yerr=yerr, uplims=True, label='uplims=True')\n",
        "plt.errorbar(x, y + 1, yerr=yerr, uplims=True, lolims=True,\n",
        "             label='uplims=True, lolims=True')\n",
        "\n",
        "upperlimits = [True, False] * 5\n",
        "lowerlimits = [False, True] * 5\n",
        "plt.errorbar(x, y, yerr=yerr, uplims=upperlimits, lolims=lowerlimits,\n",
        "             label='subsets of uplims and lolims')\n",
        "\n",
        "plt.legend(loc='lower right')\n",
        "plt.show(fig)"
      ],
      "id": "bfba8656",
      "execution_count": null,
      "outputs": []
    },
    {
      "cell_type": "markdown",
      "metadata": {},
      "source": [
        "## Plotly\n"
      ],
      "id": "09d944fa"
    },
    {
      "cell_type": "code",
      "metadata": {},
      "source": [
        "import plotly.express as px\n",
        "import plotly.io as pio\n",
        "gapminder = px.data.gapminder()\n",
        "gapminder2007 = gapminder.query(\"year == 2007\")\n",
        "fig = px.scatter(gapminder2007, \n",
        "                 x=\"gdpPercap\", y=\"lifeExp\", color=\"continent\", \n",
        "                 size=\"pop\", size_max=60,\n",
        "                 hover_name=\"country\")\n",
        "fig.show()"
      ],
      "id": "02ce9e38",
      "execution_count": null,
      "outputs": []
    },
    {
      "cell_type": "markdown",
      "metadata": {},
      "source": [
        "## Multiple Figures\n"
      ],
      "id": "ae9b51e2"
    },
    {
      "cell_type": "code",
      "metadata": {},
      "source": [
        "#| label: fig-gapminder\n",
        "#| fig-cap: Life Expectancy and GDP\n",
        "#| fig-subcap:\n",
        "#|   - 'Gapminder: 1957'\n",
        "#|   - 'Gapminder: 2007'\n",
        "#| layout-ncol: 2\n",
        "#| column: page\n",
        "\n",
        "import plotly.express as px\n",
        "import plotly.io as pio\n",
        "gapminder = px.data.gapminder()\n",
        "def gapminder_plot(year):\n",
        "    gapminderYear = gapminder.query(\"year == \" + \n",
        "                                    str(year))\n",
        "    fig = px.scatter(gapminderYear, \n",
        "                     x=\"gdpPercap\", y=\"lifeExp\",\n",
        "                     size=\"pop\", size_max=60,\n",
        "                     hover_name=\"country\")\n",
        "    fig.show()\n",
        "    \n",
        "gapminder_plot(1957)\n",
        "gapminder_plot(2007)"
      ],
      "id": "fig-gapminder",
      "execution_count": null,
      "outputs": []
    }
  ],
  "metadata": {
    "kernelspec": {
      "name": "python3",
      "language": "python",
      "display_name": "Python 3 (ipykernel)"
    }
  },
  "nbformat": 4,
  "nbformat_minor": 5
}